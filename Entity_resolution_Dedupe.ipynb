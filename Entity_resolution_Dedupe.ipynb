{
 "cells": [
  {
   "cell_type": "markdown",
   "id": "7202600f",
   "metadata": {},
   "source": [
    "# Entity Resolution\n",
    "## Familiarization with Dedupe Library\n",
    "\n",
    "This notebook is basically notes taken from reading through the dedupe documentation as well as other resources to solidfy the understanding of entity resolution with active machine learning.\n",
    "\n",
    "Reference: Gregg, Forest and Derek Eder. 2015. Dedupe. https://github.com/dedupeio/dedupe"
   ]
  },
  {
   "cell_type": "markdown",
   "id": "e0909176",
   "metadata": {},
   "source": [
    "## Overview of Dedupe Library \n",
    "The dedupe library can:\n",
    "1. Remove duplicate entries from a spreadsheet of names and addresses\n",
    "2. Link a list of (customer) information to another (order) history, even without unique (customer) id’s\n",
    "3. Take a database of campaign contributions and figure out which ones were made by the same person, even if the names were entered slightly differently for each record\n",
    "4. Takes in human training data and comes up with the best rules for your dataset to quickly and automatically find similar records, even with very large databases.\n",
    "\n",
    "Features:\n",
    "1. Machine learning – reads in human labeled data to automatically create optimum weights and blocking rules\n",
    "2. Runs on a laptop – makes intelligent comparisons so you don’t need a powerful server to run it\n",
    "3. Built as a library – so it can be integrated into applications or import scripts\n",
    "4. Extensible – supports adding custom data types, string comparators and blocking rules\n",
    "5. Open source"
   ]
  },
  {
   "cell_type": "markdown",
   "id": "5d38dd1e",
   "metadata": {},
   "source": [
    "first name | last name | address                  | phone   \n",
    ":----------|:----------|:-------------------------|:---------\n",
    "bob        | roberts   | 1600 pennsylvania ave.   | 555-0123 \n",
    "Robert     | Roberts   | 1600 Pensylvannia Avenue |          \n",
    "\n",
    "\n",
    "If we have to decide which records in our data are about the same person or organization, then we could just go through by hand, compare every record, and decide which records are about the same entity.\n",
    "\n",
    "Dedupe is a software library that can make these decisions about whether records are about the same thing about as good as a person can, but quickly."
   ]
  },
  {
   "cell_type": "markdown",
   "id": "cdf1e1cf",
   "metadata": {},
   "source": [
    "## Record similarity\n",
    "\n",
    "One way that people have approached this problem is by saying that records that are more similar are more likely to be duplicates. One way to measure this is called string metric. A string metric is a way of taking two strings and returning a number that is low if the strings are similar and high if they are dissimilar. One famous string metric is called the Hamming distance. It counts the number of substitutions that must be made to turn one string into another.\n",
    "\n",
    "Dedupe uses a metric called **Affine Gap Distance**."
   ]
  },
  {
   "cell_type": "markdown",
   "id": "d2025a7a",
   "metadata": {},
   "source": [
    "#### Off Tangent: Gap Distance\n",
    "- Definition of **gap**: Any maximal, consecutive run of spaces in a single sequence of a given alignment\n",
    "- Definition of **length**: The number of indel operations in it.\n",
    "\n",
    "Considering the following alignment:\n",
    "```\n",
    "S = a t t c - - g a - t g g a c c\n",
    "T = a - - c g t g a t t - - - c c\n",
    "```\n",
    "- This alignment has **four gaps** containing a total of eight spaces.\n",
    "- This alignment would be described as having **seven matches**, **no mismatch**, **four gaps** and **eight spaces**.\n",
    "\n",
    "##### **Constant**\n",
    "\n",
    "- This is the simplest type of gap penalty: a fixed negative score is given to every gap, <u>regardless of its length.</u>\n",
    "- This <u>encourages the algorithm to make fewer, larger, gaps</u> leaving larger contiguous sections.\n",
    "\n",
    "```\n",
    "ATTGACCTGA\n",
    "||   |||||\n",
    "AT---CCTGA\n",
    "```\n",
    "> Aligning two short DNA sequences, with `-` depicting a gap of one base pair. If each match was worth 1 point and the whole gap -1, the total score: 7 − 1 = 6. <br>\n",
    "\n",
    "##### **Linear**\n",
    "\n",
    "- Compared to the constant gap penalty, the linear gap penalty <u>takes into account the length (L) of each insertion/deletion in the gap</u>.\n",
    "- Therefore, if the penalty for each inserted/deleted element is `B` and the length of the gap `L`; the total gap penalty would be the product of the two `BL`. \n",
    "- This method <u>favors shorter gaps, with total score decreasing with each additional gap.</u>\n",
    "\n",
    "```\n",
    "ATTGACCTGA\n",
    "||   |||||\n",
    "AT---CCTGA\n",
    "```\n",
    "> Unlike constant gap penalty, the size of the gap is considered. With a match with score 1 and each gap -1, the score here is (7 − 3 = 4).\n",
    "\n",
    "##### <u>Affine Gap Penalty Model</u>\n",
    "\n",
    "- Most widely used gap penalty function\n",
    "- The affine gap penalty combines the components in both the **constant** and **linear gap penalty**, taking the form $ A + B.L $\n",
    "    - $A$: gap opening penalty - refers to the cost required to \"open a gap\"\n",
    "    - $B$: gap extension penalty - the cost to \"extend the length\" of an existing gap by 1\n",
    "    - $L$: length of the gap\n",
    "- Note that the Affine Gap Penalty Model is simply the Constant Gap Weight Model when $B = 0$.\n",
    "- In general:\n",
    "    - if the interest is to find closely related matches (e.g. removal of vector sequence during genome sequencing), a higher gap penalty should be used to reduce gap openings\n",
    "    - On the other hand, gap penalty should be lowered when interested in finding a more distant match.\n",
    "- The relationship between A and B also have an effect on gap size.\n",
    "    - If the size of the gap is important, a small A and large B (more costly to extend a gap) is used and vice versa\n",
    "    - Only the ratio A/B is important, as multiplying both by the same positive constant k will increase all penalties by k: kA+kBL = k(A+BL) which does not change the relative penalty between different alignments.\n",
    "    \n",
    "References:\n",
    "- https://en.wikipedia.org/wiki/Gap_penalty \n",
    "- https://web.archive.org/web/20130626060959/http://www.biogem.org/downloads/notes/Gap%20Penalty.pdf"
   ]
  },
  {
   "cell_type": "markdown",
   "id": "802f8442",
   "metadata": {},
   "source": [
    "#### Record by Record or Field by Field?\n",
    "\n",
    "1. We can either calculate similarities of two records as two long strings or as field by field.\n",
    "2. The advantage to Field by Field is that we can add varying numeric weightages to each field\n",
    "\n",
    "```\n",
    "record_distance = (0.5 * string_distance('bob', 'Robert')\n",
    "                   + 2.0 * string_distance('roberts', 'Roberts')\n",
    "                   + 2.0 * string_distance('1600 pennsylvania ave.', '1600 Pensylvannia Avenue')\n",
    "                   + 0.5 * string_distance('555-0123', ''))\n",
    "```"
   ]
  },
  {
   "cell_type": "markdown",
   "id": "40f92fee",
   "metadata": {},
   "source": [
    "## Regularized Logistic Regression\n",
    "\n",
    "1. Record distance / metric (eg we obtain a distance score of `8`), the number does not really translate into practical insights as to whether the two records are duplicates or not. \n",
    "    > `8` could mean the two records are duplicates, or not. We don't know\n",
    "2. If we supply pairs of records that we label as either being duplicates or distinct to a logistic regression model, the model can then learn a set of weights such that the record distance can be easily transformed into our best estimate of the probability that a pair of records are duplicates."
   ]
  },
  {
   "cell_type": "markdown",
   "id": "29dafecc",
   "metadata": {},
   "source": [
    "### Active learning\n",
    "\n",
    "1. Dedupe saves the users' time by making good use of the labeling time through Active Learning.\n",
    "2. It keeps track of a bunch of unlabeled pairs and whether:\n",
    "    - the current learning blocking rules would cover the pairs\n",
    "    - the current learned classifier would predict that the pairs were duplicates or distinct\n",
    "3. It also maintains a set of pairs where there is disagreement:\n",
    "    - Pairs which classifier believes were duplicates but were not covered by the current blocking rules\n",
    "    - Pairs which the classifier believes are distinct but which are blocked together.\n",
    "        > - Dedupe then randomly picks a pair of records from this disagreement set and asks the user to decide.\n",
    "        > - Once the user provides the label, dedupe relearns the weights and blocking rules\n",
    "        > - It then recalculates the disagreement set."
   ]
  },
  {
   "cell_type": "markdown",
   "id": "b74d2685",
   "metadata": {},
   "source": [
    "### Smart Comparisons\n",
    "\n",
    "- The naive approach of comparing two records at a time is time consuming. \n",
    "    - Say we have 30,000 records, we have to process $\\frac{30,000 * 29,999}{2} = 449,985,000 $ (~450 mil) entries!! \n",
    "    - Assuming that our machine is able to make $\\frac{10,000 \\ comparisons}{second}$, it will take 12 hours to go through each of them!\n",
    "\n",
    "#### Blocking\n",
    "- Duplicate records almost always share *something* in common. \n",
    "- If we define groups of data that share something and only compare the records in that group / block, then we will dramatically reduce the number of comparisons we will make.\n",
    "- Dedupe approaches it in two ways: predicate blocks and canopies."
   ]
  },
  {
   "cell_type": "markdown",
   "id": "f67b7b52",
   "metadata": {},
   "source": [
    "##### <u>**Predicate blocks**</u>\n",
    "- A predicate block is a bundle of records that all share a feature – a feature produced by a simple function called a predicate.\n",
    "- Predicate functions take in a record field, and output a set of features for that field.\n",
    "    - These features could be “the first 3 characters of the field,” “every word in the field,” and so on\n",
    "    - Records that share the same feature become part of a block.\n",
    "- Let's take the below as an example, using a \"first 3 character\" predicate on the `address` field below:"
   ]
  },
  {
   "cell_type": "markdown",
   "id": "7cf3cba2",
   "metadata": {},
   "source": [
    "first name | last name | address | phone | record_id\n",
    ":----------|:----------|:--------|:------|:-----------\n",
    "bob | roberts | 1600 pennsylvania ave. | 555-0123 | 1\n",
    "Robert |Roberts |1600 Pensylvannia Avenue | |2\n",
    "steve | Jones | 123 Cowabunga Lane | 555-0000 | 3 \n",
    "Stephen | Janes | 123 Cawabunga Ln | 444-555-0000 | 4\n",
    "\n"
   ]
  },
  {
   "cell_type": "markdown",
   "id": "9a21a775",
   "metadata": {},
   "source": [
    "- From four records, we now reduced it down to two blocks:\n",
    "\n",
    "```python\n",
    "{ '160' : (1,2) # tuple of record_id'\n",
    "  '123' : (3,4)\n",
    "  }\n",
    "```\n",
    "\n",
    "- Here, we’re applying the “first 3 characters” predicate function to the `address` field in our data, the function outputs the following features – \n",
    "    - `160, 160, 123, 123`.\n",
    "    - we group together the records that have identical features into “blocks”\n",
    "    \n",
    "- Other simple predicates that Dedupe uses:\n",
    "    - whole field\n",
    "    - token field\n",
    "    - common integer\n",
    "    - same three char start\n",
    "    - same five char start\n",
    "    - same seven char start\n",
    "    - near integers\n",
    "    - common four gram\n",
    "    - common six gram"
   ]
  },
  {
   "cell_type": "markdown",
   "id": "193a0145",
   "metadata": {},
   "source": [
    "#### Index Predicates / Blocks\n",
    "- Dedupe also uses another way of producing blocks from searching and index.\n",
    "- It will use a special data structure, like an inverted index that allows us to quickly find records similar to target records.\n",
    "- Dedupe uses another way of producing blocks from searching and index.\n",
    "    - Populate the index with all the unique values that appear in that field\n",
    "- When blocking, for each record, we search the index for values similar to the record's field. We then block together the records that share at least one common search result.\n",
    "- Index predicates require building an index from all unique values in a field.\n",
    "- Index predicates are usually slower than predicate blocking as building an index from all unique values in a field can be resource consuming.\n",
    "\n",
    "#### Combining Blocking Rules\n",
    "- Dedupe can also combine a few blocks. This is called *disjunctive blocks*.\n",
    "    - eg: combining blocks of records based on \"city\" field, but also combining it with \"zip code\"\n",
    "    - Dedupe tries these cross-field blocks.\n",
    "    \n",
    "#### Learning good blocking rules for a given data\n",
    "- Having a large set of predicates, Dedupe would try to combine them into a smaller set of combined blocking rules that generalizes to the labeled duplicated pairs.\n",
    "- However, there can be a large possible combinations to choose from.\n",
    "- The goal is then to find a small set of rules that generalizes well to every labeled duplicated pair, but also minimizes the total number of pairs that Dedupe has to compare.\n",
    "- To approach this problem, Dedupe uses greedy algorithms, in particular Chvatal's Greedy Set-Cover algorithm."
   ]
  },
  {
   "cell_type": "markdown",
   "id": "dcd03d48",
   "metadata": {},
   "source": [
    "### Clustering Duplicates (Grouping beyond pairwise probabilities)\n",
    "\n",
    "- Even though we may have calculated the probabilities for each of the pairs of record of being duplicates (or not), we still need to ensure that it is not just pairs of records that can be duplicates. \n",
    "- Three, four, or even thousands of records could all refer to the same entity, but we only have pairwise measures."
   ]
  },
  {
   "cell_type": "markdown",
   "id": "29559185",
   "metadata": {},
   "source": [
    "- Assuming we have the following pairwise probabilities between recrods A, B, and C.\n",
    "\n",
    "``` \n",
    "A -- 0.6 --- B --- 0.6 -- C \n",
    "```\n",
    "\n",
    "> - The probability that A & B are duplicates has been calculated 60% and the probability that B & C are duplicates has also been calculated as 60%.\n",
    "> - What is the probability that A & C are duplicates?\n",
    "\n",
    "- Dedupe uses **hierarchical clustering with centroid linkage** to give us clusters of linkage\n",
    "    - What it does is that all the points within some distance of a particular centroid are part of the same group.\n",
    "    - In the example above, B is the centroid and therefore A, B and C would be put in the same group.\n",
    "- Downside to clustering alogrithms is that they depend on us setting the threshold for group membership \n",
    "    - Threshold of the distance of a point to a particular centroid where the point is considered to be part of the centroid's cluster\n",
    "- This is not the most ideal as pairwise probabilities are not transitive.\n",
    "- In recent years, there are other researches that solves the problem of turning pairwise distances into clusters by avoiding making pairwise comparisons altogether. But these are not compatible with Dedupe's main principal pairwise approach.\n",
    "    -  <a href=http://people.cs.umass.edu/~sameer/files/hierar-coref-acl12.pdf> Michael Wick, et.al, 2012. “A Discriminative Hierarchical Model for Fast Coreference at Large Scale”</a>\n",
    "    -  <a href=http://arxiv.org/abs/1312.4645> Rebecca C. Steorts, et. al., 2013. “A Bayesian Approach to Graphical Record Linkage and De-duplication” </a>"
   ]
  },
  {
   "cell_type": "markdown",
   "id": "649f0fbc",
   "metadata": {},
   "source": [
    "### Precision and Recall\n",
    "<img src=\"references/525px-Precisionrecall.svg.png\">"
   ]
  },
  {
   "cell_type": "markdown",
   "id": "ee7153e6",
   "metadata": {},
   "source": [
    "- Precision is the fraction of the relevant instances among the retrieved instances.\n",
    "- Recall is the fraction of the relevant instances that were retrieved."
   ]
  },
  {
   "cell_type": "markdown",
   "id": "ddd17a9b",
   "metadata": {},
   "source": [
    "##### Example: Cats vs Dogs \n",
    "- Consider image recognition model in recognizing dogs (the **relevant** element) from a set of images containing 10 cats and 12 dogs\n",
    "    - Total \"positives\" retrieved (classified by model as dogs): 8\n",
    "        - 8 were truly dogs (True Positives)\n",
    "        - 3 were actually non-dogs  (False Positives)\n",
    "    - Total \"negatives\" retrieved (classified by model as cats / non-dogs): 14\n",
    "        - 7 were truly non-dogs / cats (True Negatives)\n",
    "        - 7 were actually dogs (False Negatives)"
   ]
  },
  {
   "cell_type": "markdown",
   "id": "cd416fbc",
   "metadata": {},
   "source": [
    "$$ \n",
    "Precision = \\frac{True\\ Positives}{True\\ Positives + False\\ Positives}\n",
    "$$\n",
    "\n",
    "$$ \n",
    "Recall = \\frac{True\\ Positivies}{True\\ Positives + False\\ Negatives}\n",
    "$$\n"
   ]
  },
  {
   "cell_type": "markdown",
   "id": "c3592b8f",
   "metadata": {},
   "source": [
    "### F-Score\n",
    "\n",
    "- The traditional F-measure / balanced F-score (**$F_1 score$**) is the harmonic mean of precision and recall:\n",
    "$$\n",
    "{\\displaystyle F_{1}={\\frac {2}{\\mathrm {recall^{-1}} +\\mathrm {precision^{-1}} }}=2\\cdot {\\frac {\\mathrm {precision} \\cdot \\mathrm {recall} }{\\mathrm {precision} +\\mathrm {recall} }}={\\frac {\\mathrm {tp} }{\\mathrm {tp} +{\\frac {1}{2}}(\\mathrm {fp} +\\mathrm {fn} )}}}.\n",
    "$$\n",
    "\n",
    "- $F_\\beta$ is a general F score, where $\\beta$ is a positive real factor, chosen such that recall is considred $\\beta$ times as important as precision:\n",
    "$$\n",
    "F_\\beta = (1 + \\beta^2) \\cdot \\frac{\\mathrm{precision} \\cdot \\mathrm{recall}}{(\\beta^2 \\cdot \\mathrm{precision}) + \\mathrm{recall}}\n",
    "$$\n",
    "    > In terms of Type I and Type II errors:\n",
    "    $$\n",
    "    F_\\beta = \\frac {(1 + \\beta^2) \\cdot \\mathrm{true\\ positive} }{(1 + \\beta^2) \\cdot \\mathrm{true\\ positive} + \\beta^2 \\cdot \\mathrm{false\\ negative} + \\mathrm{false\\ positive}}\\,\n",
    "    $$\n",
    "\n",
    "\n",
    "- Two commonly used values for $\\beta$ are 2, which weights recall higher than precision, and 0.5, which weights recall lower than precision."
   ]
  },
  {
   "cell_type": "markdown",
   "id": "e80e5368",
   "metadata": {},
   "source": [
    "### Choosing a good threshold \n",
    "\n",
    "- Using Precision and Recall (and F-score), we can determine if the pairwise probabilities that were calculated by Dedupe are true \"duplicates\" or false \"duplicates\". \n",
    "- It is, therefore, very important that we find a good threshold (F-score) that is optimal for our priorities (determining the trade-offs between precision and recall).\n",
    "    - Typically, for us to find a good threshold, we need to look at the true precision and recall values of some data where we have already known their true values (pairs that are truly duplicates and pairs that are truly non-duplicates)\n",
    "    - However, we will only get a good treshold if the labeled exampls are representative of the data that we are trying to classify.\n",
    "- In active learning step, the labeled examples that we make with Dedupe are not representative by design.\n",
    "    - We are not trying to find the most representative data examples. \n",
    "    - We are trying to find the ones that will teach us the most.\n",
    "- The approach that Dedupe takes is:\n",
    "    1) Take a random sample of blocked data\n",
    "    1) Calculate the pairwise probability that records would be duplicates within each block\n",
    "    1) From these probabilities, we can calculate the expected number of duplicates and distinct pairs\n",
    "    1) Calculate the expected precision and recall"
   ]
  },
  {
   "cell_type": "markdown",
   "id": "fafdb41a",
   "metadata": {},
   "source": [
    "### Special Cases\n",
    "\n",
    "- The process we have been describing is for the most general case–when you have a dataset where an arbitrary number of records can all refer to the same entity.\n",
    "- There are certain special cases where we can make more assumptions about how records can be linked, which if true, make the problem much simpler.\n",
    "- One important case we call Record Linkage. \n",
    "    - Say you have two datasets and you want to find the records in each dataset that refer to the same thing. \n",
    "    - If you can assume that each dataset, individually, is unique, then this puts a big constraint on how records can match. \n",
    "    - If this uniqueness assumption holds, \n",
    "        - then (A) two records can only refer to the same entity if they are from different datasets and \n",
    "        - (B) no other record can match either of those two record"
   ]
  },
  {
   "cell_type": "markdown",
   "id": "ab95d35b",
   "metadata": {},
   "source": [
    "#### Scratch Notes"
   ]
  },
  {
   "cell_type": "markdown",
   "id": "307d60e4",
   "metadata": {},
   "source": [
    "- Other field distances: https://docs.dedupe.io/en/latest/Variable-definition.html\n",
    "- Hierarchical clustering with centroid linkage \n",
    "- Researches about clustering pairwise distances without making pairwise comparisons altogether:\n",
    "    -  <a href=http://people.cs.umass.edu/~sameer/files/hierar-coref-acl12.pdf> Michael Wick, et.al, 2012. “A Discriminative Hierarchical Model for Fast Coreference at Large Scale”</a>\n",
    "    -  <a href=http://arxiv.org/abs/1312.4645> Rebecca C. Steorts, et. al., 2013. “A Bayesian Approach to Graphical Record Linkage and De-duplication” </a>"
   ]
  },
  {
   "cell_type": "markdown",
   "id": "a4aeaa4d",
   "metadata": {},
   "source": [
    "# Testing out Dedupe - Example 1: `csv_example`"
   ]
  },
  {
   "cell_type": "code",
   "execution_count": 25,
   "id": "57671102",
   "metadata": {},
   "outputs": [],
   "source": [
    "import os\n",
    "import csv\n",
    "import re\n",
    "import logging\n",
    "import optparse\n",
    "\n",
    "import dedupe\n",
    "from unidecode import unidecode\n",
    "\n",
    "from pathlib import Path"
   ]
  },
  {
   "cell_type": "code",
   "execution_count": 21,
   "id": "aa882571",
   "metadata": {},
   "outputs": [],
   "source": [
    "def preProcess(column):\n",
    "    '''\n",
    "    Do a little bit of data cleaning with the help of Unidecode and Regex. \n",
    "    Things like casing, extra spaces, quotes and new lines can be ignored\n",
    "    '''\n",
    "    \n",
    "    column = unidecode(column)\n",
    "    column = re.sub('  +', ' ', column)\n",
    "    column = re.sub('\\n', ' ', column)\n",
    "    column = column.strip().strip('\"').strip(\"'\").lower().strip()\n",
    "    \n",
    "    if not column:\n",
    "        column = None\n",
    "    return column"
   ]
  },
  {
   "cell_type": "code",
   "execution_count": 22,
   "id": "8583498f",
   "metadata": {},
   "outputs": [],
   "source": [
    "def readData(filename):\n",
    "    '''\n",
    "    Read in our data from a CSV file and create a dictionary of records,\n",
    "    where the key is a unique record ID and each value is dict\n",
    "    '''\n",
    "    \n",
    "    data_d = {}\n",
    "    with open(filename) as f:\n",
    "        reader = csv.DictReader(f)\n",
    "        for row in reader:\n",
    "            clean_row = [(k, preProcess(v)) for (k, v) in row.items()]\n",
    "            row_id = int(row['Id'])\n",
    "            data_d[row_id] = dict(clean_row)\n",
    "    \n",
    "    return data_d            "
   ]
  },
  {
   "cell_type": "code",
   "execution_count": 23,
   "id": "04445231",
   "metadata": {},
   "outputs": [],
   "source": [
    "# set logging \n",
    "log_level = logging.DEBUG ## Verbosity multiple times\n",
    "logging.getLogger().setLevel(log_level)"
   ]
  },
  {
   "cell_type": "code",
   "execution_count": 26,
   "id": "6bfdb43e",
   "metadata": {},
   "outputs": [],
   "source": [
    "data_path = Path(r\"./dedupe-examples/csv_example/\")\n",
    "\n",
    "input_file = data_path / r\"csv_example_messy_input.csv\"\n",
    "output_file = data_path / r\"csv_example_output.csv\"\n",
    "setting_file = data_path / r\"csv_example_learned_settings\"\n",
    "training_file = data_path / r\"csv_example_training.json\""
   ]
  },
  {
   "cell_type": "code",
   "execution_count": 30,
   "id": "6c5e005c",
   "metadata": {},
   "outputs": [],
   "source": [
    "data_d = readData(input_file)"
   ]
  },
  {
   "cell_type": "code",
   "execution_count": 31,
   "id": "ffbd52a8",
   "metadata": {},
   "outputs": [],
   "source": [
    "# define fields for dedupe\n",
    "\n",
    "fields = [\n",
    "    {\"field\": \"Site name\", \"type\": \"String\"},\n",
    "    {\"field\": \"Address\", \"type\": \"String\"},\n",
    "    {\"field\": \"Zip\", \"type\": \"Exact\", \"has missing\": True},\n",
    "    {\"field\": \"Phone\", \"type\": \"String\", \"has missing\": True},\n",
    "]"
   ]
  },
  {
   "cell_type": "code",
   "execution_count": 32,
   "id": "97951386",
   "metadata": {},
   "outputs": [],
   "source": [
    "#initialize Dedupe object \n",
    "\n",
    "deduper = dedupe.Dedupe(fields)"
   ]
  },
  {
   "cell_type": "code",
   "execution_count": 33,
   "id": "50855c27",
   "metadata": {
    "jupyter": {
     "outputs_hidden": true
    },
    "scrolled": true,
    "tags": []
   },
   "outputs": [
    {
     "name": "stderr",
     "output_type": "stream",
     "text": [
      "DEBUG:root:1350 blocked samples were requested, but only able to sample 1348\n",
      "DEBUG:dedupe.blocking:Canopy: TfidfTextCanopyPredicate: (0.6, Address)\n",
      "DEBUG:dedupe.blocking:Canopy: TfidfTextCanopyPredicate: (0.2, Address)\n",
      "DEBUG:dedupe.blocking:Canopy: TfidfTextCanopyPredicate: (0.4, Address)\n",
      "DEBUG:dedupe.blocking:Canopy: TfidfTextCanopyPredicate: (0.8, Address)\n",
      "DEBUG:dedupe.blocking:Canopy: LevenshteinCanopyPredicate: (4, Address)\n",
      "DEBUG:dedupe.blocking:Canopy: LevenshteinCanopyPredicate: (3, Address)\n",
      "DEBUG:dedupe.blocking:Canopy: LevenshteinCanopyPredicate: (1, Address)\n",
      "DEBUG:dedupe.blocking:Canopy: LevenshteinCanopyPredicate: (2, Address)\n",
      "INFO:dedupe.canopy_index:Removing stop word  s\n",
      "DEBUG:dedupe.blocking:Canopy: TfidfNGramCanopyPredicate: (0.4, Address)\n",
      "DEBUG:dedupe.blocking:Canopy: TfidfNGramCanopyPredicate: (0.8, Address)\n",
      "DEBUG:dedupe.blocking:Canopy: TfidfNGramCanopyPredicate: (0.2, Address)\n",
      "DEBUG:dedupe.blocking:Canopy: TfidfNGramCanopyPredicate: (0.6, Address)\n",
      "DEBUG:dedupe.blocking:Canopy: TfidfNGramCanopyPredicate: (0.4, Phone)\n",
      "DEBUG:dedupe.blocking:Canopy: TfidfNGramCanopyPredicate: (0.2, Phone)\n",
      "DEBUG:dedupe.blocking:Canopy: TfidfNGramCanopyPredicate: (0.6, Phone)\n",
      "DEBUG:dedupe.blocking:Canopy: TfidfNGramCanopyPredicate: (0.8, Phone)\n",
      "DEBUG:dedupe.blocking:Canopy: TfidfTextCanopyPredicate: (0.2, Phone)\n",
      "DEBUG:dedupe.blocking:Canopy: TfidfTextCanopyPredicate: (0.6, Phone)\n",
      "DEBUG:dedupe.blocking:Canopy: TfidfTextCanopyPredicate: (0.8, Phone)\n",
      "DEBUG:dedupe.blocking:Canopy: TfidfTextCanopyPredicate: (0.4, Phone)\n",
      "DEBUG:dedupe.blocking:Canopy: LevenshteinCanopyPredicate: (1, Phone)\n",
      "DEBUG:dedupe.blocking:Canopy: LevenshteinCanopyPredicate: (4, Phone)\n",
      "DEBUG:dedupe.blocking:Canopy: LevenshteinCanopyPredicate: (3, Phone)\n",
      "DEBUG:dedupe.blocking:Canopy: LevenshteinCanopyPredicate: (2, Phone)\n",
      "DEBUG:dedupe.blocking:Canopy: TfidfTextCanopyPredicate: (0.8, Site name)\n",
      "DEBUG:dedupe.blocking:Canopy: TfidfTextCanopyPredicate: (0.4, Site name)\n",
      "DEBUG:dedupe.blocking:Canopy: TfidfTextCanopyPredicate: (0.2, Site name)\n",
      "DEBUG:dedupe.blocking:Canopy: TfidfTextCanopyPredicate: (0.6, Site name)\n",
      "DEBUG:dedupe.blocking:Canopy: TfidfNGramCanopyPredicate: (0.2, Site name)\n",
      "DEBUG:dedupe.blocking:Canopy: TfidfNGramCanopyPredicate: (0.6, Site name)\n",
      "DEBUG:dedupe.blocking:Canopy: TfidfNGramCanopyPredicate: (0.4, Site name)\n",
      "DEBUG:dedupe.blocking:Canopy: TfidfNGramCanopyPredicate: (0.8, Site name)\n",
      "DEBUG:dedupe.blocking:Canopy: LevenshteinCanopyPredicate: (1, Site name)\n",
      "DEBUG:dedupe.blocking:Canopy: LevenshteinCanopyPredicate: (4, Site name)\n",
      "DEBUG:dedupe.blocking:Canopy: LevenshteinCanopyPredicate: (2, Site name)\n",
      "DEBUG:dedupe.blocking:Canopy: LevenshteinCanopyPredicate: (3, Site name)\n",
      "DEBUG:dedupe.blocking:Canopy: TfidfTextCanopyPredicate: (0.6, Address)\n",
      "DEBUG:dedupe.blocking:Canopy: TfidfTextCanopyPredicate: (0.2, Address)\n",
      "DEBUG:dedupe.blocking:Canopy: TfidfTextCanopyPredicate: (0.4, Address)\n",
      "DEBUG:dedupe.blocking:Canopy: TfidfTextCanopyPredicate: (0.8, Address)\n",
      "DEBUG:dedupe.blocking:Canopy: LevenshteinCanopyPredicate: (4, Address)\n",
      "DEBUG:dedupe.blocking:Canopy: LevenshteinCanopyPredicate: (3, Address)\n",
      "DEBUG:dedupe.blocking:Canopy: LevenshteinCanopyPredicate: (1, Address)\n",
      "DEBUG:dedupe.blocking:Canopy: LevenshteinCanopyPredicate: (2, Address)\n",
      "DEBUG:dedupe.blocking:Canopy: TfidfNGramCanopyPredicate: (0.4, Address)\n",
      "DEBUG:dedupe.blocking:Canopy: TfidfNGramCanopyPredicate: (0.8, Address)\n",
      "DEBUG:dedupe.blocking:Canopy: TfidfNGramCanopyPredicate: (0.2, Address)\n",
      "DEBUG:dedupe.blocking:Canopy: TfidfNGramCanopyPredicate: (0.6, Address)\n",
      "DEBUG:dedupe.blocking:Canopy: TfidfNGramCanopyPredicate: (0.4, Phone)\n",
      "DEBUG:dedupe.blocking:Canopy: TfidfNGramCanopyPredicate: (0.2, Phone)\n",
      "DEBUG:dedupe.blocking:Canopy: TfidfNGramCanopyPredicate: (0.6, Phone)\n",
      "DEBUG:dedupe.blocking:Canopy: TfidfNGramCanopyPredicate: (0.8, Phone)\n",
      "DEBUG:dedupe.blocking:Canopy: TfidfTextCanopyPredicate: (0.2, Phone)\n",
      "DEBUG:dedupe.blocking:Canopy: TfidfTextCanopyPredicate: (0.6, Phone)\n",
      "DEBUG:dedupe.blocking:Canopy: TfidfTextCanopyPredicate: (0.8, Phone)\n",
      "DEBUG:dedupe.blocking:Canopy: TfidfTextCanopyPredicate: (0.4, Phone)\n",
      "DEBUG:dedupe.blocking:Canopy: LevenshteinCanopyPredicate: (1, Phone)\n",
      "DEBUG:dedupe.blocking:Canopy: LevenshteinCanopyPredicate: (4, Phone)\n",
      "DEBUG:dedupe.blocking:Canopy: LevenshteinCanopyPredicate: (3, Phone)\n",
      "DEBUG:dedupe.blocking:Canopy: LevenshteinCanopyPredicate: (2, Phone)\n",
      "DEBUG:dedupe.blocking:Canopy: TfidfTextCanopyPredicate: (0.8, Site name)\n",
      "DEBUG:dedupe.blocking:Canopy: TfidfTextCanopyPredicate: (0.4, Site name)\n",
      "DEBUG:dedupe.blocking:Canopy: TfidfTextCanopyPredicate: (0.2, Site name)\n",
      "DEBUG:dedupe.blocking:Canopy: TfidfTextCanopyPredicate: (0.6, Site name)\n",
      "DEBUG:dedupe.blocking:Canopy: TfidfNGramCanopyPredicate: (0.2, Site name)\n",
      "DEBUG:dedupe.blocking:Canopy: TfidfNGramCanopyPredicate: (0.6, Site name)\n",
      "DEBUG:dedupe.blocking:Canopy: TfidfNGramCanopyPredicate: (0.4, Site name)\n",
      "DEBUG:dedupe.blocking:Canopy: TfidfNGramCanopyPredicate: (0.8, Site name)\n",
      "DEBUG:dedupe.blocking:Canopy: LevenshteinCanopyPredicate: (1, Site name)\n",
      "DEBUG:dedupe.blocking:Canopy: LevenshteinCanopyPredicate: (4, Site name)\n",
      "DEBUG:dedupe.blocking:Canopy: LevenshteinCanopyPredicate: (2, Site name)\n",
      "DEBUG:dedupe.blocking:Canopy: LevenshteinCanopyPredicate: (3, Site name)\n",
      "INFO:dedupe.training:Final predicate set:\n",
      "INFO:dedupe.training:SimplePredicate: (wholeFieldPredicate, Site name)\n"
     ]
    }
   ],
   "source": [
    "# Prepare training\n",
    "deduper.prepare_training(data_d)"
   ]
  },
  {
   "cell_type": "code",
   "execution_count": 34,
   "id": "63c05981",
   "metadata": {
    "jupyter": {
     "outputs_hidden": true
    },
    "scrolled": true,
    "tags": []
   },
   "outputs": [
    {
     "name": "stderr",
     "output_type": "stream",
     "text": [
      "DEBUG:dedupe.labeler:Classifier: 0.97, Covered: False\n",
      "Site name : centers for new horizons altgeld\n",
      "Address : 941 e. 132nd st\n",
      "Zip : 60627\n",
      "Phone : 4683055\n",
      "\n",
      "Site name : centers for new horizons altgeld ii\n",
      "Address : 941 e. 132nd st\n",
      "Zip : 60627\n",
      "Phone : 4683055\n",
      "\n",
      "0/10 positive, 0/10 negative\n",
      "Do these records refer to the same thing?\n",
      "(y)es / (n)o / (u)nsure / (f)inished\n"
     ]
    },
    {
     "name": "stdin",
     "output_type": "stream",
     "text": [
      " y\n"
     ]
    },
    {
     "name": "stderr",
     "output_type": "stream",
     "text": [
      "DEBUG:dedupe.labeler:Classifier: 0.97, Covered: False\n",
      "Site name : children's dev inst morgan pk\n",
      "Address : 10928 s. halsted\n",
      "Zip : 60628\n",
      "Phone : 9950600\n",
      "\n",
      "Site name : children's dev inst morgan pk i/t\n",
      "Address : 10928 s. halsted\n",
      "Zip : 60628\n",
      "Phone : 9950600\n",
      "\n",
      "1/10 positive, 0/10 negative\n",
      "Do these records refer to the same thing?\n",
      "(y)es / (n)o / (u)nsure / (f)inished / (p)revious\n"
     ]
    },
    {
     "name": "stdin",
     "output_type": "stream",
     "text": [
      " y\n"
     ]
    },
    {
     "name": "stderr",
     "output_type": "stream",
     "text": [
      "INFO:dedupe.training:Final predicate set:\n",
      "INFO:dedupe.training:SimplePredicate: (wholeFieldPredicate, Address)\n",
      "DEBUG:dedupe.labeler:Classifier: 0.97, Covered: False\n",
      "Site name : henry booth house - little hands & feet\n",
      "Address : 7801 s wolcott ave\n",
      "Zip : None\n",
      "Phone : None\n",
      "\n",
      "Site name : henry booth house little hands & feet\n",
      "Address : 7801 s wolcott\n",
      "Zip : 60620\n",
      "Phone : 9948561\n",
      "\n",
      "2/10 positive, 0/10 negative\n",
      "Do these records refer to the same thing?\n",
      "(y)es / (n)o / (u)nsure / (f)inished / (p)revious\n"
     ]
    },
    {
     "name": "stdin",
     "output_type": "stream",
     "text": [
      " y\n"
     ]
    },
    {
     "name": "stderr",
     "output_type": "stream",
     "text": [
      "DEBUG:dedupe.labeler:Classifier: 0.98, Covered: False\n",
      "Site name : ezzard charles\n",
      "Address : 7946 south ashland\n",
      "Zip : 60620\n",
      "Phone : 4870227\n",
      "\n",
      "Site name : ezzard charles school\n",
      "Address : 7946 south ashland avenue\n",
      "Zip : 60620\n",
      "Phone : 4870227\n",
      "\n",
      "3/10 positive, 0/10 negative\n",
      "Do these records refer to the same thing?\n",
      "(y)es / (n)o / (u)nsure / (f)inished / (p)revious\n"
     ]
    },
    {
     "name": "stdin",
     "output_type": "stream",
     "text": [
      " y\n"
     ]
    },
    {
     "name": "stderr",
     "output_type": "stream",
     "text": [
      "INFO:dedupe.training:Final predicate set:\n",
      "INFO:dedupe.training:TfidfTextCanopyPredicate: (0.8, Address)\n",
      "DEBUG:dedupe.labeler:Classifier: 0.98, Covered: False\n",
      "Site name : firman community services firman house west\n",
      "Address : 37 w 47th st\n",
      "Zip : 60609\n",
      "Phone : 3733400\n",
      "\n",
      "Site name : firman community services\n",
      "Address : 37 w 47th street\n",
      "Zip : 60609\n",
      "Phone : 3733400\n",
      "\n",
      "4/10 positive, 0/10 negative\n",
      "Do these records refer to the same thing?\n",
      "(y)es / (n)o / (u)nsure / (f)inished / (p)revious\n"
     ]
    },
    {
     "name": "stdin",
     "output_type": "stream",
     "text": [
      " y\n"
     ]
    },
    {
     "name": "stderr",
     "output_type": "stream",
     "text": [
      "DEBUG:dedupe.labeler:Classifier: 0.98, Covered: False\n",
      "Site name : first church of love and faith first church of love and faith\n",
      "Address : 2140 w 79th st\n",
      "Zip : 60620\n",
      "Phone : 8739155\n",
      "\n",
      "Site name : first church of love and faith\n",
      "Address : 2140 w 79th street\n",
      "Zip : 60620\n",
      "Phone : 8739155\n",
      "\n",
      "5/10 positive, 0/10 negative\n",
      "Do these records refer to the same thing?\n",
      "(y)es / (n)o / (u)nsure / (f)inished / (p)revious\n"
     ]
    },
    {
     "name": "stdin",
     "output_type": "stream",
     "text": [
      " y\n"
     ]
    },
    {
     "name": "stderr",
     "output_type": "stream",
     "text": [
      "INFO:dedupe.training:Final predicate set:\n",
      "INFO:dedupe.training:SimplePredicate: (sameSevenCharStartPredicate, Address)\n",
      "DEBUG:dedupe.labeler:Classifier: 0.98, Covered: False\n",
      "Site name : monroe\n",
      "Address : 3651 w. schubert\n",
      "Zip : 60647\n",
      "Phone : 5344155\n",
      "\n",
      "Site name : monroe\n",
      "Address : 3651 w. shubert\n",
      "Zip : 60647\n",
      "Phone : 5344155\n",
      "\n",
      "6/10 positive, 0/10 negative\n",
      "Do these records refer to the same thing?\n",
      "(y)es / (n)o / (u)nsure / (f)inished / (p)revious\n"
     ]
    },
    {
     "name": "stdin",
     "output_type": "stream",
     "text": [
      " y\n"
     ]
    },
    {
     "name": "stderr",
     "output_type": "stream",
     "text": [
      "DEBUG:dedupe.labeler:Classifier: 0.98, Covered: False\n",
      "Site name : el valor - teddy bear 3 pulaski\n",
      "Address : 6401 s pulaski rd\n",
      "Zip : None\n",
      "Phone : None\n",
      "\n",
      "Site name : el valor - teddy bear 5 pulaski\n",
      "Address : 5160 s pulaski rd\n",
      "Zip : None\n",
      "Phone : None\n",
      "\n",
      "7/10 positive, 0/10 negative\n",
      "Do these records refer to the same thing?\n",
      "(y)es / (n)o / (u)nsure / (f)inished / (p)revious\n"
     ]
    },
    {
     "name": "stdin",
     "output_type": "stream",
     "text": [
      " n\n"
     ]
    },
    {
     "name": "stderr",
     "output_type": "stream",
     "text": [
      "INFO:dedupe.training:Final predicate set:\n",
      "INFO:dedupe.training:SimplePredicate: (firstTwoTokensPredicate, Address)\n",
      "DEBUG:dedupe.labeler:Classifier: 0.98, Covered: False\n",
      "Site name : henry booth house jelly bean-358-370 e 71st\n",
      "Address : 358 370 e 71st\n",
      "Zip : 60636\n",
      "Phone : 8738888\n",
      "\n",
      "Site name : henry booth house jelly bean-358-370 e 71st\n",
      "Address : 358-370 e 71st.\n",
      "Zip : 60636\n",
      "Phone : 8738888\n",
      "\n",
      "7/10 positive, 1/10 negative\n",
      "Do these records refer to the same thing?\n",
      "(y)es / (n)o / (u)nsure / (f)inished / (p)revious\n"
     ]
    },
    {
     "name": "stdin",
     "output_type": "stream",
     "text": [
      " y\n"
     ]
    },
    {
     "name": "stderr",
     "output_type": "stream",
     "text": [
      "DEBUG:dedupe.labeler:Classifier: 0.92, Covered: False\n",
      "Site name : henry booth house love n learn academy\n",
      "Address : 723 725 e 75th street\n",
      "Zip : 60619\n",
      "Phone : 7230338\n",
      "\n",
      "Site name : henry booth house love n learn academy\n",
      "Address : 723-725 e 75th st.\n",
      "Zip : 60619\n",
      "Phone : 7230338\n",
      "\n",
      "8/10 positive, 1/10 negative\n",
      "Do these records refer to the same thing?\n",
      "(y)es / (n)o / (u)nsure / (f)inished / (p)revious\n"
     ]
    },
    {
     "name": "stdin",
     "output_type": "stream",
     "text": [
      " y\n"
     ]
    },
    {
     "name": "stderr",
     "output_type": "stream",
     "text": [
      "INFO:dedupe.training:Final predicate set:\n",
      "INFO:dedupe.training:SimplePredicate: (firstTwoTokensPredicate, Address)\n",
      "INFO:dedupe.training:SimplePredicate: (alphaNumericPredicate, Site name)\n",
      "DEBUG:dedupe.labeler:Classifier: 0.89, Covered: False\n",
      "Site name : children's home & aid society of illinois\n",
      "Address : 125 south wacker drive 14th floor\n",
      "Zip : 60606\n",
      "Phone : 4240200\n",
      "\n",
      "Site name : childrens home and aid society\n",
      "Address : 125 s wacker drive\n",
      "Zip : 60606\n",
      "Phone : 4240200\n",
      "\n",
      "9/10 positive, 1/10 negative\n",
      "Do these records refer to the same thing?\n",
      "(y)es / (n)o / (u)nsure / (f)inished / (p)revious\n"
     ]
    },
    {
     "name": "stdin",
     "output_type": "stream",
     "text": [
      " y\n"
     ]
    },
    {
     "name": "stderr",
     "output_type": "stream",
     "text": [
      "INFO:dedupe.training:Final predicate set:\n",
      "INFO:dedupe.training:SimplePredicate: (sameFiveCharStartPredicate, Address)\n",
      "DEBUG:dedupe.labeler:Classifier: 0.86, Covered: False\n",
      "Site name : salvation army columbus park\n",
      "Address : 500 s. central\n",
      "Zip : 60644\n",
      "Phone : 9214162\n",
      "\n",
      "Site name : the salvation army columbus park head start\n",
      "Address : 500 south central\n",
      "Zip : 60644\n",
      "Phone : 9214162\n",
      "\n",
      "10/10 positive, 1/10 negative\n",
      "Do these records refer to the same thing?\n",
      "(y)es / (n)o / (u)nsure / (f)inished / (p)revious\n"
     ]
    },
    {
     "name": "stdin",
     "output_type": "stream",
     "text": [
      " y\n"
     ]
    },
    {
     "name": "stderr",
     "output_type": "stream",
     "text": [
      "INFO:dedupe.training:Final predicate set:\n",
      "INFO:dedupe.training:TfidfTextCanopyPredicate: (0.2, Phone)\n",
      "INFO:dedupe.training:SimplePredicate: (wholeFieldPredicate, Site name)\n",
      "DEBUG:dedupe.labeler:Classifier: 0.91, Covered: False\n",
      "Site name : casa central - app home based head start\n",
      "Address : 2222 n. kedzie ave.\n",
      "Zip : 60647\n",
      "Phone : 7828819\n",
      "\n",
      "Site name : casa central - casa infantil\n",
      "Address : 2222 n. kedzie ave.\n",
      "Zip : 60647\n",
      "Phone : 7721170\n",
      "\n",
      "11/10 positive, 1/10 negative\n",
      "Do these records refer to the same thing?\n",
      "(y)es / (n)o / (u)nsure / (f)inished / (p)revious\n"
     ]
    },
    {
     "name": "stdin",
     "output_type": "stream",
     "text": [
      " n\n"
     ]
    },
    {
     "name": "stderr",
     "output_type": "stream",
     "text": [
      "DEBUG:dedupe.labeler:Classifier: 0.89, Covered: False\n",
      "Site name : westside holistic family services westside holistic family services\n",
      "Address : 4909 w. division\n",
      "Zip : 60651\n",
      "Phone : 9218777\n",
      "\n",
      "Site name : childserv humboldt\n",
      "Address : 4909 w. division\n",
      "Zip : 60651\n",
      "Phone : 8677350\n",
      "\n",
      "11/10 positive, 2/10 negative\n",
      "Do these records refer to the same thing?\n",
      "(y)es / (n)o / (u)nsure / (f)inished / (p)revious\n"
     ]
    },
    {
     "name": "stdin",
     "output_type": "stream",
     "text": [
      " n\n"
     ]
    },
    {
     "name": "stderr",
     "output_type": "stream",
     "text": [
      "DEBUG:dedupe.labeler:Classifier: 0.82, Covered: False\n",
      "Site name : onward neighborhood house mckinney early learning academy\n",
      "Address : 5745 w division st\n",
      "Zip : 60651\n",
      "Phone : None\n",
      "\n",
      "Site name : onward neighborhood house tiny town for tots\n",
      "Address : 5654 w division st\n",
      "Zip : 60651\n",
      "Phone : 6260048\n",
      "\n",
      "11/10 positive, 3/10 negative\n",
      "Do these records refer to the same thing?\n",
      "(y)es / (n)o / (u)nsure / (f)inished / (p)revious\n"
     ]
    },
    {
     "name": "stdin",
     "output_type": "stream",
     "text": [
      " n\n"
     ]
    },
    {
     "name": "stderr",
     "output_type": "stream",
     "text": [
      "DEBUG:dedupe.labeler:Classifier: 0.74, Covered: False\n",
      "Site name : henry booth house - north kenwood day care center\n",
      "Address : 857 e pershing rd\n",
      "Zip : None\n",
      "Phone : 2682223\n",
      "\n",
      "Site name : henry booth house home of life community north kenwood day care center\n",
      "Address : 857 e pershing\n",
      "Zip : 60653\n",
      "Phone : None\n",
      "\n",
      "11/10 positive, 4/10 negative\n",
      "Do these records refer to the same thing?\n",
      "(y)es / (n)o / (u)nsure / (f)inished / (p)revious\n"
     ]
    },
    {
     "name": "stdin",
     "output_type": "stream",
     "text": [
      " y\n"
     ]
    },
    {
     "name": "stderr",
     "output_type": "stream",
     "text": [
      "DEBUG:dedupe.labeler:Classifier: 0.73, Covered: False\n",
      "Site name : woodlawn a.m.e. church - woodlawn a.m.e.\n",
      "Address : 6456 s evans ave\n",
      "Zip : None\n",
      "Phone : 6671402\n",
      "\n",
      "Site name : woodlawn ame\n",
      "Address : 6456 s evans avenue\n",
      "Zip : 60637\n",
      "Phone : 6671400\n",
      "\n",
      "12/10 positive, 4/10 negative\n",
      "Do these records refer to the same thing?\n",
      "(y)es / (n)o / (u)nsure / (f)inished / (p)revious\n"
     ]
    },
    {
     "name": "stdin",
     "output_type": "stream",
     "text": [
      " u\n"
     ]
    },
    {
     "name": "stderr",
     "output_type": "stream",
     "text": [
      "INFO:dedupe.training:Final predicate set:\n",
      "INFO:dedupe.training:TfidfTextCanopyPredicate: (0.6, Address)\n",
      "INFO:dedupe.training:SimplePredicate: (wholeFieldPredicate, Site name)\n",
      "DEBUG:dedupe.labeler:Classifier: 0.85, Covered: False\n",
      "Site name : christopher house uptown i/t\n",
      "Address : 4701 n. winthorp\n",
      "Zip : 60640\n",
      "Phone : 7694540\n",
      "\n",
      "Site name : christopher house uptown\n",
      "Address : 4701 north winthrop avenue\n",
      "Zip : 60640\n",
      "Phone : 7694540\n",
      "\n",
      "12/10 positive, 4/10 negative\n",
      "Do these records refer to the same thing?\n",
      "(y)es / (n)o / (u)nsure / (f)inished / (p)revious\n"
     ]
    },
    {
     "name": "stdin",
     "output_type": "stream",
     "text": [
      " y\n"
     ]
    },
    {
     "name": "stderr",
     "output_type": "stream",
     "text": [
      "DEBUG:dedupe.labeler:Classifier: 0.83, Covered: False\n",
      "Site name : carole robertson center for learning fcch-aurora nunez\n",
      "Address : 2701 w 18th st\n",
      "Zip : 60608\n",
      "Phone : 5211600\n",
      "\n",
      "Site name : carole robertson center for learning\n",
      "Address : 2929 w 19th street\n",
      "Zip : 60623\n",
      "Phone : 5211600\n",
      "\n",
      "13/10 positive, 4/10 negative\n",
      "Do these records refer to the same thing?\n",
      "(y)es / (n)o / (u)nsure / (f)inished / (p)revious\n"
     ]
    },
    {
     "name": "stdin",
     "output_type": "stream",
     "text": [
      " u\n"
     ]
    },
    {
     "name": "stderr",
     "output_type": "stream",
     "text": [
      "INFO:dedupe.training:Final predicate set:\n",
      "INFO:dedupe.training:TfidfTextCanopyPredicate: (0.2, Phone)\n",
      "INFO:dedupe.training:TfidfTextCanopyPredicate: (0.8, Address)\n",
      "DEBUG:dedupe.labeler:Classifier: 0.66, Covered: False\n",
      "Site name : chinese american service league - chinese american service league\n",
      "Address : 2141 s tan ct\n",
      "Zip : None\n",
      "Phone : 7910418\n",
      "\n",
      "Site name : chinese american service league\n",
      "Address : 2141 south tan court 1st floor\n",
      "Zip : 60616\n",
      "Phone : 7910454\n",
      "\n",
      "13/10 positive, 4/10 negative\n",
      "Do these records refer to the same thing?\n",
      "(y)es / (n)o / (u)nsure / (f)inished / (p)revious\n"
     ]
    },
    {
     "name": "stdin",
     "output_type": "stream",
     "text": [
      " u\n"
     ]
    },
    {
     "name": "stderr",
     "output_type": "stream",
     "text": [
      "DEBUG:dedupe.labeler:Classifier: 0.63, Covered: False\n",
      "Site name : el valor - teddy bear 3 pulaski\n",
      "Address : 6401 s pulaski rd\n",
      "Zip : None\n",
      "Phone : None\n",
      "\n",
      "Site name : el valor teddy bear 5\n",
      "Address : 5160 s pulaski rd.\n",
      "Zip : 60632\n",
      "Phone : 2847030\n",
      "\n",
      "13/10 positive, 4/10 negative\n",
      "Do these records refer to the same thing?\n",
      "(y)es / (n)o / (u)nsure / (f)inished / (p)revious\n"
     ]
    },
    {
     "name": "stdin",
     "output_type": "stream",
     "text": [
      " n\n"
     ]
    },
    {
     "name": "stderr",
     "output_type": "stream",
     "text": [
      "DEBUG:dedupe.labeler:Classifier: 0.52, Covered: False\n",
      "Site name : north avenue day nursery north avenue day nursery\n",
      "Address : 2001 w pierce\n",
      "Zip : 60622\n",
      "Phone : 3424499\n",
      "\n",
      "Site name : north avenue day nursery\n",
      "Address : 4339 w mclean avenue\n",
      "Zip : 60639\n",
      "Phone : None\n",
      "\n",
      "13/10 positive, 5/10 negative\n",
      "Do these records refer to the same thing?\n",
      "(y)es / (n)o / (u)nsure / (f)inished / (p)revious\n"
     ]
    },
    {
     "name": "stdin",
     "output_type": "stream",
     "text": [
      " u\n"
     ]
    },
    {
     "name": "stderr",
     "output_type": "stream",
     "text": [
      "DEBUG:dedupe.labeler:Classifier: 0.49, Covered: True\n",
      "Site name : catholic charities of the archdiocese of chicago - our lady of lourdes\n",
      "Address : 1449 s keeler ave\n",
      "Zip : None\n",
      "Phone : 5213126\n",
      "\n",
      "Site name : catholic charities-our lady of lourdes\n",
      "Address : 1449 s. keeler\n",
      "Zip : 60623\n",
      "Phone : 5213126\n",
      "\n",
      "13/10 positive, 5/10 negative\n",
      "Do these records refer to the same thing?\n",
      "(y)es / (n)o / (u)nsure / (f)inished / (p)revious\n"
     ]
    },
    {
     "name": "stdin",
     "output_type": "stream",
     "text": [
      " y\n"
     ]
    },
    {
     "name": "stderr",
     "output_type": "stream",
     "text": [
      "DEBUG:dedupe.labeler:Classifier: 0.49, Covered: True\n",
      "Site name : ymca of metropolitan chicago - garfield head start/child developmental center- ymca\n",
      "Address : 7 n homan ave\n",
      "Zip : None\n",
      "Phone : 2653900\n",
      "\n",
      "Site name : garfield ymca\n",
      "Address : 7 north homan avenue\n",
      "Zip : 60624\n",
      "Phone : 2653900\n",
      "\n",
      "14/10 positive, 5/10 negative\n",
      "Do these records refer to the same thing?\n",
      "(y)es / (n)o / (u)nsure / (f)inished / (p)revious\n"
     ]
    },
    {
     "name": "stdin",
     "output_type": "stream",
     "text": [
      " y\n"
     ]
    },
    {
     "name": "stderr",
     "output_type": "stream",
     "text": [
      "DEBUG:dedupe.labeler:Classifier: 0.50, Covered: True\n",
      "Site name : edgewater community council - a b c center / cyc\n",
      "Address : 3415 w 13th pl\n",
      "Zip : None\n",
      "Phone : 7625655\n",
      "\n",
      "Site name : chicago youth centers abc\n",
      "Address : 3415 w 13th pl\n",
      "Zip : 60623\n",
      "Phone : 7625655\n",
      "\n",
      "15/10 positive, 5/10 negative\n",
      "Do these records refer to the same thing?\n",
      "(y)es / (n)o / (u)nsure / (f)inished / (p)revious\n"
     ]
    },
    {
     "name": "stdin",
     "output_type": "stream",
     "text": [
      " y\n"
     ]
    },
    {
     "name": "stderr",
     "output_type": "stream",
     "text": [
      "DEBUG:dedupe.labeler:Classifier: 0.49, Covered: True\n",
      "Site name : hull house association - parkway community center / hull house\n",
      "Address : 500 e 67th st\n",
      "Zip : None\n",
      "Phone : 4931306\n",
      "\n",
      "Site name : parkway community house child care\n",
      "Address : 500 east 67th street\n",
      "Zip : 60637\n",
      "Phone : 4931306\n",
      "\n",
      "16/10 positive, 5/10 negative\n",
      "Do these records refer to the same thing?\n",
      "(y)es / (n)o / (u)nsure / (f)inished / (p)revious\n"
     ]
    },
    {
     "name": "stdin",
     "output_type": "stream",
     "text": [
      " u\n"
     ]
    },
    {
     "name": "stderr",
     "output_type": "stream",
     "text": [
      "DEBUG:dedupe.labeler:Classifier: 0.61, Covered: False\n",
      "Site name : chicago youth centers - rachel's learning center #1\n",
      "Address : 3430 w roosevelt rd\n",
      "Zip : None\n",
      "Phone : None\n",
      "\n",
      "Site name : rachel's learning center #1\n",
      "Address : 3430 w roosevelt road\n",
      "Zip : 60624\n",
      "Phone : 5330444\n",
      "\n",
      "16/10 positive, 5/10 negative\n",
      "Do these records refer to the same thing?\n",
      "(y)es / (n)o / (u)nsure / (f)inished / (p)revious\n"
     ]
    },
    {
     "name": "stdin",
     "output_type": "stream",
     "text": [
      " y\n"
     ]
    },
    {
     "name": "stderr",
     "output_type": "stream",
     "text": [
      "DEBUG:dedupe.labeler:Classifier: 0.60, Covered: False\n",
      "Site name : el valor - little tykes i\n",
      "Address : 1711 w 35th st\n",
      "Zip : None\n",
      "Phone : 2547700\n",
      "\n",
      "Site name : kiddy kare preschools little tykes i\n",
      "Address : 1711 w. 35th street\n",
      "Zip : None\n",
      "Phone : 2547710\n",
      "\n",
      "17/10 positive, 5/10 negative\n",
      "Do these records refer to the same thing?\n",
      "(y)es / (n)o / (u)nsure / (f)inished / (p)revious\n"
     ]
    },
    {
     "name": "stdin",
     "output_type": "stream",
     "text": [
      " u\n"
     ]
    },
    {
     "name": "stderr",
     "output_type": "stream",
     "text": [
      "INFO:dedupe.training:Final predicate set:\n",
      "INFO:dedupe.training:TfidfTextCanopyPredicate: (0.2, Phone)\n",
      "INFO:dedupe.training:TfidfTextCanopyPredicate: (0.8, Address)\n",
      "INFO:dedupe.training:SimplePredicate: (alphaNumericPredicate, Site name)\n",
      "DEBUG:dedupe.labeler:Classifier: 0.60, Covered: False\n",
      "Site name : childserv - pilsen\n",
      "Address : 1711 w garfield blvd\n",
      "Zip : None\n",
      "Phone : None\n",
      "\n",
      "Site name : chicago commons association computer preschool academy\n",
      "Address : 1400 w garfield blvd\n",
      "Zip : 60609\n",
      "Phone : 6275000\n",
      "\n",
      "17/10 positive, 5/10 negative\n",
      "Do these records refer to the same thing?\n",
      "(y)es / (n)o / (u)nsure / (f)inished / (p)revious\n"
     ]
    },
    {
     "name": "stdin",
     "output_type": "stream",
     "text": [
      " n\n"
     ]
    },
    {
     "name": "stderr",
     "output_type": "stream",
     "text": [
      "DEBUG:dedupe.labeler:Classifier: 0.53, Covered: False\n",
      "Site name : easter seals society of metropolitan chicago - it takes a village\n",
      "Address : 4000 w division st\n",
      "Zip : None\n",
      "Phone : None\n",
      "\n",
      "Site name : salvation army - new hope school\n",
      "Address : 4255 w division street\n",
      "Zip : 60651\n",
      "Phone : 7224908\n",
      "\n",
      "17/10 positive, 6/10 negative\n",
      "Do these records refer to the same thing?\n",
      "(y)es / (n)o / (u)nsure / (f)inished / (p)revious\n"
     ]
    },
    {
     "name": "stdin",
     "output_type": "stream",
     "text": [
      " u\n"
     ]
    },
    {
     "name": "stderr",
     "output_type": "stream",
     "text": [
      "DEBUG:dedupe.labeler:Classifier: 0.50, Covered: True\n",
      "Site name : disney magnet\n",
      "Address : 4140 n. marine dr.\n",
      "Zip : 60613\n",
      "Phone : 5345840\n",
      "\n",
      "Site name : disney magnet\n",
      "Address : 3815 n. kedvale ave.\n",
      "Zip : 60613\n",
      "Phone : 5345840\n",
      "\n",
      "17/10 positive, 6/10 negative\n",
      "Do these records refer to the same thing?\n",
      "(y)es / (n)o / (u)nsure / (f)inished / (p)revious\n"
     ]
    },
    {
     "name": "stdin",
     "output_type": "stream",
     "text": [
      " u\n"
     ]
    },
    {
     "name": "stderr",
     "output_type": "stream",
     "text": [
      "DEBUG:dedupe.labeler:Classifier: 0.48, Covered: True\n",
      "Site name : carole robertson center for learning fcch-angelita yugsi\n",
      "Address : 6447 s knox ave\n",
      "Zip : 60629\n",
      "Phone : 5211600\n",
      "\n",
      "Site name : carole robertson center for learning fcch-maria flores\n",
      "Address : 3443 w 71st\n",
      "Zip : 60629\n",
      "Phone : 5211600\n",
      "\n",
      "17/10 positive, 6/10 negative\n",
      "Do these records refer to the same thing?\n",
      "(y)es / (n)o / (u)nsure / (f)inished / (p)revious\n"
     ]
    },
    {
     "name": "stdin",
     "output_type": "stream",
     "text": [
      " u\n"
     ]
    },
    {
     "name": "stderr",
     "output_type": "stream",
     "text": [
      "DEBUG:dedupe.labeler:Classifier: 0.47, Covered: True\n",
      "Site name : chicago youth centers roseland\n",
      "Address : 461 e. 111th street\n",
      "Zip : None\n",
      "Phone : 4684405\n",
      "\n",
      "Site name : c.y.c. roseland head start\n",
      "Address : 461 east 111th street\n",
      "Zip : 60628\n",
      "Phone : 4684405\n",
      "\n",
      "17/10 positive, 6/10 negative\n",
      "Do these records refer to the same thing?\n",
      "(y)es / (n)o / (u)nsure / (f)inished / (p)revious\n"
     ]
    },
    {
     "name": "stdin",
     "output_type": "stream",
     "text": [
      " y\n"
     ]
    },
    {
     "name": "stderr",
     "output_type": "stream",
     "text": [
      "DEBUG:dedupe.labeler:Classifier: 0.45, Covered: True\n",
      "Site name : ymca of metropolitan chicago - logan square - first lutheran ymca\n",
      "Address : 3500 w fullerton ave\n",
      "Zip : None\n",
      "Phone : 8625960\n",
      "\n",
      "Site name : logan square ymca first lutheran head start\n",
      "Address : 3500 west fullerton\n",
      "Zip : 60647\n",
      "Phone : 8625960\n",
      "\n",
      "18/10 positive, 6/10 negative\n",
      "Do these records refer to the same thing?\n",
      "(y)es / (n)o / (u)nsure / (f)inished / (p)revious\n"
     ]
    },
    {
     "name": "stdin",
     "output_type": "stream",
     "text": [
      " y\n"
     ]
    },
    {
     "name": "stderr",
     "output_type": "stream",
     "text": [
      "DEBUG:dedupe.labeler:Classifier: 0.52, Covered: False\n",
      "Site name : st. augustine college - st. augustine - nayarit\n",
      "Address : 2610 w 25th pl\n",
      "Zip : None\n",
      "Phone : 8783641\n",
      "\n",
      "Site name : saint augustine college-nayarit head start\n",
      "Address : 2610 west 25th place lower level\n",
      "Zip : 60608\n",
      "Phone : 8783653\n",
      "\n",
      "19/10 positive, 6/10 negative\n",
      "Do these records refer to the same thing?\n",
      "(y)es / (n)o / (u)nsure / (f)inished / (p)revious\n"
     ]
    },
    {
     "name": "stdin",
     "output_type": "stream",
     "text": [
      " u\n"
     ]
    },
    {
     "name": "stderr",
     "output_type": "stream",
     "text": [
      "DEBUG:dedupe.labeler:Classifier: 0.58, Covered: False\n",
      "Site name : south east asia center - south east asia center(foster)\n",
      "Address : 1112 w foster ave\n",
      "Zip : None\n",
      "Phone : None\n",
      "\n",
      "Site name : catholic charities chicago - ebenezer\n",
      "Address : 1652 w foster avenue\n",
      "Zip : 60640\n",
      "Phone : 8789925\n",
      "\n",
      "19/10 positive, 6/10 negative\n",
      "Do these records refer to the same thing?\n",
      "(y)es / (n)o / (u)nsure / (f)inished / (p)revious\n"
     ]
    },
    {
     "name": "stdin",
     "output_type": "stream",
     "text": [
      " f\n"
     ]
    },
    {
     "name": "stderr",
     "output_type": "stream",
     "text": [
      "Finished labeling\n"
     ]
    }
   ],
   "source": [
    "dedupe.console_label(deduper)"
   ]
  },
  {
   "cell_type": "code",
   "execution_count": 35,
   "id": "f180d324",
   "metadata": {},
   "outputs": [
    {
     "name": "stderr",
     "output_type": "stream",
     "text": [
      "INFO:rlr.crossvalidation:using cross validation to find optimum alpha...\n",
      "INFO:rlr.crossvalidation:optimum alpha: 0.010000, score 0.46895255686615833\n",
      "INFO:dedupe.training:Final predicate set:\n",
      "INFO:dedupe.training:(SimplePredicate: (sameSevenCharStartPredicate, Phone), TfidfTextCanopyPredicate: (0.4, Address), SimplePredicate: (commonSixGram, Site name))\n",
      "INFO:dedupe.training:(SimplePredicate: (sameSevenCharStartPredicate, Address), SimplePredicate: (suffixArray, Site name), SimplePredicate: (commonThreeTokens, Site name))\n"
     ]
    }
   ],
   "source": [
    "deduper.train()"
   ]
  },
  {
   "cell_type": "code",
   "execution_count": 37,
   "id": "946087d0",
   "metadata": {},
   "outputs": [],
   "source": [
    "with open(training_file, \"w\") as tf:\n",
    "    deduper.write_training(tf)\n",
    "\n",
    "with open(setting_file, \"w\") as sf:\n",
    "    deduper.write_training(sf)"
   ]
  },
  {
   "cell_type": "code",
   "execution_count": 38,
   "id": "f5bfb6ac",
   "metadata": {},
   "outputs": [
    {
     "name": "stderr",
     "output_type": "stream",
     "text": [
      "DEBUG:dedupe.blocking:Canopy: TfidfTextCanopyPredicate: (0.4, Address)\n",
      "DEBUG:dedupe.api:matching done, begin clustering\n"
     ]
    },
    {
     "name": "stdout",
     "output_type": "stream",
     "text": [
      "# duplicate sets: 1621\n"
     ]
    }
   ],
   "source": [
    "#### Clustering\n",
    "# partition will return sets of records that dedupe believes are all referring to the same entity\n",
    "clustered_dupes = deduper.partition(data_d, 0.5)\n",
    "\n",
    "print(\"# duplicate sets:\", len(clustered_dupes))"
   ]
  },
  {
   "cell_type": "code",
   "execution_count": 39,
   "id": "5290995c",
   "metadata": {},
   "outputs": [],
   "source": [
    "cluster_membership = {}\n",
    "for cluster_id, (records, scores) in enumerate(clustered_dupes):\n",
    "    for record_id, score in zip(records, scores):\n",
    "        cluster_membership[record_id] = {\n",
    "            \"Cluster ID\": cluster_id,\n",
    "            \"confidence_score\": score\n",
    "        }"
   ]
  },
  {
   "cell_type": "code",
   "execution_count": 44,
   "id": "397e3f9c",
   "metadata": {},
   "outputs": [],
   "source": [
    "with open(output_file, \"w\") as f_output, open(input_file) as f_input:\n",
    "    reader = csv.DictReader(f_input)\n",
    "    fieldnames = [\"Cluster ID\", \"confidence_score\"] + reader.fieldnames\n",
    "    \n",
    "    writer = csv.DictWriter(f_output, fieldnames = fieldnames)\n",
    "    writer.writeheader()\n",
    "    \n",
    "    for row in reader:\n",
    "        row_id = int(row[\"Id\"])\n",
    "        row.update(cluster_membership[row_id])\n",
    "        writer.writerow(row)"
   ]
  }
 ],
 "metadata": {
  "kernelspec": {
   "display_name": "Python 3",
   "language": "python",
   "name": "python3"
  },
  "language_info": {
   "codemirror_mode": {
    "name": "ipython",
    "version": 3
   },
   "file_extension": ".py",
   "mimetype": "text/x-python",
   "name": "python",
   "nbconvert_exporter": "python",
   "pygments_lexer": "ipython3",
   "version": "3.8.8"
  }
 },
 "nbformat": 4,
 "nbformat_minor": 5
}
